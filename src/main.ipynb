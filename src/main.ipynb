{
 "cells": [
  {
   "cell_type": "markdown",
   "metadata": {},
   "source": [
    "# IMPORTS\n",
    "----"
   ]
  },
  {
   "cell_type": "code",
   "execution_count": 2,
   "metadata": {},
   "outputs": [],
   "source": [
    "import numpy as np\n",
    "from qiskit import QuantumCircuit, QuantumRegister, ClassicalRegister, execute, BasicAer, IBMQ\n",
    "from qiskit.visualization import plot_histogram, plot_bloch_multivector\n",
    "from qiskit import *\n",
    "import matplotlib.pyplot as plt\n",
    "%matplotlib inline\n",
    "from qiskit.visualization import plot_histogram"
   ]
  },
  {
   "cell_type": "code",
   "execution_count": 5,
   "metadata": {},
   "outputs": [],
   "source": [
    "from functions import entanglement_bell_pair, alice_state_qubits, measure_classical_send,  bob_apply_gates, random_state"
   ]
  },
  {
   "cell_type": "code",
   "execution_count": 6,
   "metadata": {},
   "outputs": [],
   "source": [
    "qr = QuantumRegister(3)    \n",
    "cr1 = ClassicalRegister(1)\n",
    "cr2 = ClassicalRegister(1)\n",
    "teleportation_circuit = QuantumCircuit(qr, cr1, cr2)"
   ]
  },
  {
   "cell_type": "code",
   "execution_count": 7,
   "metadata": {},
   "outputs": [
    {
     "ename": "MissingOptionalLibraryError",
     "evalue": "\"The 'pylatexenc' library is required to use 'MatplotlibDrawer'. You can install it with 'pip install pylatexenc'.\"",
     "output_type": "error",
     "traceback": [
      "\u001b[0;31m---------------------------------------------------------------------------\u001b[0m",
      "\u001b[0;31mMissingOptionalLibraryError\u001b[0m               Traceback (most recent call last)",
      "\u001b[1;32m/Users/guillermoabadlopez/Documents/GitHub/Quantum-Teleportation/src/main.ipynb Cell 5\u001b[0m line \u001b[0;36m2\n\u001b[1;32m      <a href='vscode-notebook-cell:/Users/guillermoabadlopez/Documents/GitHub/Quantum-Teleportation/src/main.ipynb#W2sZmlsZQ%3D%3D?line=0'>1</a>\u001b[0m entanglement_bell_pair(teleportation_circuit, \u001b[39m1\u001b[39m, \u001b[39m2\u001b[39m)\n\u001b[0;32m----> <a href='vscode-notebook-cell:/Users/guillermoabadlopez/Documents/GitHub/Quantum-Teleportation/src/main.ipynb#W2sZmlsZQ%3D%3D?line=1'>2</a>\u001b[0m teleportation_circuit\u001b[39m.\u001b[39;49mdraw(output\u001b[39m=\u001b[39;49m\u001b[39m'\u001b[39;49m\u001b[39mmpl\u001b[39;49m\u001b[39m'\u001b[39;49m)\n",
      "File \u001b[0;32m~/Documents/GitHub/Quantum-Teleportation/.venv/lib/python3.11/site-packages/qiskit/circuit/quantumcircuit.py:1913\u001b[0m, in \u001b[0;36mQuantumCircuit.draw\u001b[0;34m(self, output, scale, filename, style, interactive, plot_barriers, reverse_bits, justify, vertical_compression, idle_wires, with_layout, fold, ax, initial_state, cregbundle, wire_order)\u001b[0m\n\u001b[1;32m   1910\u001b[0m \u001b[39m# pylint: disable=cyclic-import\u001b[39;00m\n\u001b[1;32m   1911\u001b[0m \u001b[39mfrom\u001b[39;00m \u001b[39mqiskit\u001b[39;00m\u001b[39m.\u001b[39;00m\u001b[39mvisualization\u001b[39;00m \u001b[39mimport\u001b[39;00m circuit_drawer\n\u001b[0;32m-> 1913\u001b[0m \u001b[39mreturn\u001b[39;00m circuit_drawer(\n\u001b[1;32m   1914\u001b[0m     \u001b[39mself\u001b[39;49m,\n\u001b[1;32m   1915\u001b[0m     scale\u001b[39m=\u001b[39;49mscale,\n\u001b[1;32m   1916\u001b[0m     filename\u001b[39m=\u001b[39;49mfilename,\n\u001b[1;32m   1917\u001b[0m     style\u001b[39m=\u001b[39;49mstyle,\n\u001b[1;32m   1918\u001b[0m     output\u001b[39m=\u001b[39;49moutput,\n\u001b[1;32m   1919\u001b[0m     interactive\u001b[39m=\u001b[39;49minteractive,\n\u001b[1;32m   1920\u001b[0m     plot_barriers\u001b[39m=\u001b[39;49mplot_barriers,\n\u001b[1;32m   1921\u001b[0m     reverse_bits\u001b[39m=\u001b[39;49mreverse_bits,\n\u001b[1;32m   1922\u001b[0m     justify\u001b[39m=\u001b[39;49mjustify,\n\u001b[1;32m   1923\u001b[0m     vertical_compression\u001b[39m=\u001b[39;49mvertical_compression,\n\u001b[1;32m   1924\u001b[0m     idle_wires\u001b[39m=\u001b[39;49midle_wires,\n\u001b[1;32m   1925\u001b[0m     with_layout\u001b[39m=\u001b[39;49mwith_layout,\n\u001b[1;32m   1926\u001b[0m     fold\u001b[39m=\u001b[39;49mfold,\n\u001b[1;32m   1927\u001b[0m     ax\u001b[39m=\u001b[39;49max,\n\u001b[1;32m   1928\u001b[0m     initial_state\u001b[39m=\u001b[39;49minitial_state,\n\u001b[1;32m   1929\u001b[0m     cregbundle\u001b[39m=\u001b[39;49mcregbundle,\n\u001b[1;32m   1930\u001b[0m     wire_order\u001b[39m=\u001b[39;49mwire_order,\n\u001b[1;32m   1931\u001b[0m )\n",
      "File \u001b[0;32m~/Documents/GitHub/Quantum-Teleportation/.venv/lib/python3.11/site-packages/qiskit/visualization/circuit/circuit_visualization.py:292\u001b[0m, in \u001b[0;36mcircuit_drawer\u001b[0;34m(circuit, scale, filename, style, output, interactive, plot_barriers, reverse_bits, justify, vertical_compression, idle_wires, with_layout, fold, ax, initial_state, cregbundle, wire_order)\u001b[0m\n\u001b[1;32m    277\u001b[0m     \u001b[39mreturn\u001b[39;00m _generate_latex_source(\n\u001b[1;32m    278\u001b[0m         circuit,\n\u001b[1;32m    279\u001b[0m         filename\u001b[39m=\u001b[39mfilename,\n\u001b[0;32m   (...)\u001b[0m\n\u001b[1;32m    289\u001b[0m         wire_order\u001b[39m=\u001b[39mcomplete_wire_order,\n\u001b[1;32m    290\u001b[0m     )\n\u001b[1;32m    291\u001b[0m \u001b[39melif\u001b[39;00m output \u001b[39m==\u001b[39m \u001b[39m\"\u001b[39m\u001b[39mmpl\u001b[39m\u001b[39m\"\u001b[39m:\n\u001b[0;32m--> 292\u001b[0m     image \u001b[39m=\u001b[39m _matplotlib_circuit_drawer(\n\u001b[1;32m    293\u001b[0m         circuit,\n\u001b[1;32m    294\u001b[0m         scale\u001b[39m=\u001b[39;49mscale,\n\u001b[1;32m    295\u001b[0m         filename\u001b[39m=\u001b[39;49mfilename,\n\u001b[1;32m    296\u001b[0m         style\u001b[39m=\u001b[39;49mstyle,\n\u001b[1;32m    297\u001b[0m         plot_barriers\u001b[39m=\u001b[39;49mplot_barriers,\n\u001b[1;32m    298\u001b[0m         reverse_bits\u001b[39m=\u001b[39;49mreverse_bits,\n\u001b[1;32m    299\u001b[0m         justify\u001b[39m=\u001b[39;49mjustify,\n\u001b[1;32m    300\u001b[0m         idle_wires\u001b[39m=\u001b[39;49midle_wires,\n\u001b[1;32m    301\u001b[0m         with_layout\u001b[39m=\u001b[39;49mwith_layout,\n\u001b[1;32m    302\u001b[0m         fold\u001b[39m=\u001b[39;49mfold,\n\u001b[1;32m    303\u001b[0m         ax\u001b[39m=\u001b[39;49max,\n\u001b[1;32m    304\u001b[0m         initial_state\u001b[39m=\u001b[39;49minitial_state,\n\u001b[1;32m    305\u001b[0m         cregbundle\u001b[39m=\u001b[39;49mcregbundle,\n\u001b[1;32m    306\u001b[0m         wire_order\u001b[39m=\u001b[39;49mcomplete_wire_order,\n\u001b[1;32m    307\u001b[0m     )\n\u001b[1;32m    308\u001b[0m \u001b[39melse\u001b[39;00m:\n\u001b[1;32m    309\u001b[0m     \u001b[39mraise\u001b[39;00m VisualizationError(\n\u001b[1;32m    310\u001b[0m         \u001b[39m\"\u001b[39m\u001b[39mInvalid output type \u001b[39m\u001b[39m%s\u001b[39;00m\u001b[39m selected. The only valid choices \u001b[39m\u001b[39m\"\u001b[39m\n\u001b[1;32m    311\u001b[0m         \u001b[39m\"\u001b[39m\u001b[39mare text, latex, latex_source, and mpl\u001b[39m\u001b[39m\"\u001b[39m \u001b[39m%\u001b[39m output\n\u001b[1;32m    312\u001b[0m     )\n",
      "File \u001b[0;32m~/Documents/GitHub/Quantum-Teleportation/.venv/lib/python3.11/site-packages/qiskit/visualization/circuit/circuit_visualization.py:662\u001b[0m, in \u001b[0;36m_matplotlib_circuit_drawer\u001b[0;34m(circuit, scale, filename, style, plot_barriers, reverse_bits, justify, idle_wires, with_layout, fold, ax, initial_state, cregbundle, wire_order)\u001b[0m\n\u001b[1;32m    659\u001b[0m \u001b[39mif\u001b[39;00m fold \u001b[39mis\u001b[39;00m \u001b[39mNone\u001b[39;00m:\n\u001b[1;32m    660\u001b[0m     fold \u001b[39m=\u001b[39m \u001b[39m25\u001b[39m\n\u001b[0;32m--> 662\u001b[0m qcd \u001b[39m=\u001b[39m _matplotlib\u001b[39m.\u001b[39;49mMatplotlibDrawer(\n\u001b[1;32m    663\u001b[0m     qubits,\n\u001b[1;32m    664\u001b[0m     clbits,\n\u001b[1;32m    665\u001b[0m     nodes,\n\u001b[1;32m    666\u001b[0m     circuit,\n\u001b[1;32m    667\u001b[0m     scale\u001b[39m=\u001b[39;49mscale,\n\u001b[1;32m    668\u001b[0m     style\u001b[39m=\u001b[39;49mstyle,\n\u001b[1;32m    669\u001b[0m     reverse_bits\u001b[39m=\u001b[39;49mreverse_bits,\n\u001b[1;32m    670\u001b[0m     plot_barriers\u001b[39m=\u001b[39;49mplot_barriers,\n\u001b[1;32m    671\u001b[0m     fold\u001b[39m=\u001b[39;49mfold,\n\u001b[1;32m    672\u001b[0m     ax\u001b[39m=\u001b[39;49max,\n\u001b[1;32m    673\u001b[0m     initial_state\u001b[39m=\u001b[39;49minitial_state,\n\u001b[1;32m    674\u001b[0m     cregbundle\u001b[39m=\u001b[39;49mcregbundle,\n\u001b[1;32m    675\u001b[0m     with_layout\u001b[39m=\u001b[39;49mwith_layout,\n\u001b[1;32m    676\u001b[0m )\n\u001b[1;32m    677\u001b[0m \u001b[39mreturn\u001b[39;00m qcd\u001b[39m.\u001b[39mdraw(filename)\n",
      "File \u001b[0;32m~/Documents/GitHub/Quantum-Teleportation/.venv/lib/python3.11/site-packages/qiskit/utils/classtools.py:111\u001b[0m, in \u001b[0;36m_WrappedMethod.__get__.<locals>.out\u001b[0;34m(*args, **kwargs)\u001b[0m\n\u001b[1;32m    108\u001b[0m \u001b[39m@functools\u001b[39m\u001b[39m.\u001b[39mwraps(method)\n\u001b[1;32m    109\u001b[0m \u001b[39mdef\u001b[39;00m \u001b[39mout\u001b[39m(\u001b[39m*\u001b[39margs, \u001b[39m*\u001b[39m\u001b[39m*\u001b[39mkwargs):\n\u001b[1;32m    110\u001b[0m     \u001b[39mfor\u001b[39;00m callback \u001b[39min\u001b[39;00m \u001b[39mself\u001b[39m\u001b[39m.\u001b[39m_before:\n\u001b[0;32m--> 111\u001b[0m         callback\u001b[39m.\u001b[39;49m\u001b[39m__get__\u001b[39;49m(obj, objtype)(\u001b[39m*\u001b[39;49margs, \u001b[39m*\u001b[39;49m\u001b[39m*\u001b[39;49mkwargs)\n\u001b[1;32m    112\u001b[0m     retval \u001b[39m=\u001b[39m method(\u001b[39m*\u001b[39margs, \u001b[39m*\u001b[39m\u001b[39m*\u001b[39mkwargs)\n\u001b[1;32m    113\u001b[0m     \u001b[39mfor\u001b[39;00m callback \u001b[39min\u001b[39;00m \u001b[39mself\u001b[39m\u001b[39m.\u001b[39m_after:\n",
      "File \u001b[0;32m~/Documents/GitHub/Quantum-Teleportation/.venv/lib/python3.11/site-packages/qiskit/utils/lazy_tester.py:39\u001b[0m, in \u001b[0;36m_RequireNow.__call__\u001b[0;34m(self, *_args, **_kwargs)\u001b[0m\n\u001b[1;32m     38\u001b[0m \u001b[39mdef\u001b[39;00m \u001b[39m__call__\u001b[39m(\u001b[39mself\u001b[39m, \u001b[39m*\u001b[39m_args, \u001b[39m*\u001b[39m\u001b[39m*\u001b[39m_kwargs):\n\u001b[0;32m---> 39\u001b[0m     \u001b[39mself\u001b[39;49m\u001b[39m.\u001b[39;49m_tester\u001b[39m.\u001b[39;49mrequire_now(\u001b[39mself\u001b[39;49m\u001b[39m.\u001b[39;49m_feature)\n",
      "File \u001b[0;32m~/Documents/GitHub/Quantum-Teleportation/.venv/lib/python3.11/site-packages/qiskit/utils/lazy_tester.py:223\u001b[0m, in \u001b[0;36mLazyDependencyManager.require_now\u001b[0;34m(self, feature)\u001b[0m\n\u001b[1;32m    221\u001b[0m \u001b[39mif\u001b[39;00m \u001b[39mself\u001b[39m:\n\u001b[1;32m    222\u001b[0m     \u001b[39mreturn\u001b[39;00m\n\u001b[0;32m--> 223\u001b[0m \u001b[39mraise\u001b[39;00m MissingOptionalLibraryError(\n\u001b[1;32m    224\u001b[0m     libname\u001b[39m=\u001b[39m\u001b[39mself\u001b[39m\u001b[39m.\u001b[39m_name, name\u001b[39m=\u001b[39mfeature, pip_install\u001b[39m=\u001b[39m\u001b[39mself\u001b[39m\u001b[39m.\u001b[39m_install, msg\u001b[39m=\u001b[39m\u001b[39mself\u001b[39m\u001b[39m.\u001b[39m_msg\n\u001b[1;32m    225\u001b[0m )\n",
      "\u001b[0;31mMissingOptionalLibraryError\u001b[0m: \"The 'pylatexenc' library is required to use 'MatplotlibDrawer'. You can install it with 'pip install pylatexenc'.\""
     ]
    }
   ],
   "source": [
    "entanglement_bell_pair(teleportation_circuit, 1, 2)\n",
    "teleportation_circuit.draw(output='mpl')"
   ]
  },
  {
   "cell_type": "code",
   "execution_count": null,
   "metadata": {},
   "outputs": [],
   "source": [
    "# call the function to our circuit\n",
    "teleportation_circuit.barrier()\n",
    "alice_state_qubits(teleportation_circuit, 0, 1)\n",
    "teleportation_circuit.draw(output='mpl')"
   ]
  },
  {
   "cell_type": "code",
   "execution_count": null,
   "metadata": {},
   "outputs": [],
   "source": [
    "measure_classical_send(teleportation_circuit, 0 ,1)\n",
    "teleportation_circuit.draw(output='mpl')"
   ]
  },
  {
   "cell_type": "code",
   "execution_count": null,
   "metadata": {},
   "outputs": [],
   "source": [
    "teleportation_circuit.barrier() # Use barrier to separate steps\n",
    "bob_apply_gates(teleportation_circuit, 2, cr1, cr2)\n",
    "teleportation_circuit.draw(output='mpl')"
   ]
  },
  {
   "cell_type": "code",
   "execution_count": null,
   "metadata": {},
   "outputs": [],
   "source": [
    "psi = random_state(1)"
   ]
  },
  {
   "cell_type": "code",
   "execution_count": null,
   "metadata": {},
   "outputs": [],
   "source": [
    "from qiskit.extensions import Initialize\n",
    "init_gate = Initialize(psi)"
   ]
  },
  {
   "cell_type": "code",
   "execution_count": null,
   "metadata": {},
   "outputs": [],
   "source": [
    "qr = QuantumRegister(3)   \n",
    "cr1 = ClassicalRegister(1) \n",
    "cr2 = ClassicalRegister(1)\n",
    "qc = QuantumCircuit(qr, cr1, cr2)\n",
    "\n",
    "#let's initialise Alice's q0\n",
    "qc.append(init_gate, [0])\n",
    "qc.barrier()\n",
    "\n",
    "# teleportation protocol\n",
    "entanglement_bell_pair(qc, 1, 2)\n",
    "qc.barrier()\n",
    "# Send q1 to Alice and q2 to Bob\n",
    "alice_state_qubits(qc, 0, 1)\n",
    "\n",
    "# alice sends to Bob\n",
    "measure_classical_send(qc, 0, 1)\n",
    "\n",
    "# Bob decodes qubits\n",
    "bob_apply_gates(qc, 2, cr1, cr2)\n",
    "\n",
    "qc.draw(output='mpl')"
   ]
  },
  {
   "cell_type": "code",
   "execution_count": null,
   "metadata": {},
   "outputs": [],
   "source": [
    "backend = BasicAer.get_backend('statevector_simulator')\n",
    "out_vector = execute(qc, backend).result().get_statevector()\n",
    "plot_bloch_multivector(out_vector)"
   ]
  },
  {
   "cell_type": "code",
   "execution_count": null,
   "metadata": {},
   "outputs": [],
   "source": [
    "inverse_init_gate = init_gate.gates_to_uncompute()\n",
    "qc.append(inverse_init_gate, [2])\n",
    "qc.draw(output='mpl')"
   ]
  },
  {
   "cell_type": "code",
   "execution_count": null,
   "metadata": {},
   "outputs": [],
   "source": [
    "#add a new classical register to see the result\n",
    "cr_result = ClassicalRegister(1)\n",
    "qc.add_register(cr_result)\n",
    "qc.measure(2,2)\n",
    "qc.draw(output='mpl')"
   ]
  },
  {
   "cell_type": "code",
   "execution_count": null,
   "metadata": {},
   "outputs": [],
   "source": [
    "backend = BasicAer.get_backend('qasm_simulator')\n",
    "counts = execute(qc, backend, shots=1024).result().get_counts()\n",
    "plot_histogram(counts)"
   ]
  }
 ],
 "metadata": {
  "kernelspec": {
   "display_name": ".venv",
   "language": "python",
   "name": "python3"
  },
  "language_info": {
   "codemirror_mode": {
    "name": "ipython",
    "version": 3
   },
   "file_extension": ".py",
   "mimetype": "text/x-python",
   "name": "python",
   "nbconvert_exporter": "python",
   "pygments_lexer": "ipython3",
   "version": "3.11.3"
  },
  "orig_nbformat": 4
 },
 "nbformat": 4,
 "nbformat_minor": 2
}
